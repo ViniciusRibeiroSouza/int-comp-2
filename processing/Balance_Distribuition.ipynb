{
 "cells": [
  {
   "cell_type": "code",
   "execution_count": 2,
   "metadata": {},
   "outputs": [],
   "source": [
    "import os\n",
    "import warnings\n",
    "import pandas as pd \n",
    "from imblearn.over_sampling import SMOTE\n",
    "from sklearn.preprocessing import StandardScaler\n",
    "warnings.filterwarnings(\"ignore\")\n",
    "\n",
    "def load_data(file_name):\n",
    "    curr_file = os.path.join(os.getcwd().replace('processing', 'data'), file_name)\n",
    "    return pd.read_csv(curr_file, delimiter=\",\")\n",
    "\n",
    "# Reload the dataset with the correct delimiter\n",
    "data = load_data('lock_data.csv')\n",
    "\n",
    "# Display the first few rows of the dataset\n",
    "data.head()\n",
    "\n",
    "# Splitting the dataset into features (X) and target (y)\n",
    "X = data.drop('Outcome', axis=1)\n",
    "y = data['Outcome']\n",
    "\n",
    "# Standardizing the features\n",
    "scaler = StandardScaler()\n",
    "X_standardized = scaler.fit_transform(X)\n",
    "\n",
    "data_standardized = pd.concat([pd.DataFrame(X_standardized), y], axis=1)\n",
    "data_standardized.columns = data.columns\n",
    "\n",
    "# Save file to CSV\n",
    "data_standardized.to_csv('lock_data_standardized.csv', index=False)\n",
    "\n",
    "# Apply SMOTE to oversample the positive class\n",
    "smote = SMOTE(random_state=42)\n",
    "X_resampled, y_resampled = smote.fit_resample(X_standardized, y)\n",
    "\n",
    "# Checking the distribution of the target variable after SMOTE\n",
    "y_resampled.value_counts()\n",
    "\n",
    "resampled_df = pd.concat([pd.DataFrame(X_resampled), y_resampled], axis=1)\n",
    "resampled_df.columns = data.columns\n",
    "\n",
    "# Save the balanced dataset to a CSV file\n",
    "resampled_df.to_csv('lock_data_standardized_smote.csv', index=False)"
   ]
  },
  {
   "cell_type": "code",
   "execution_count": null,
   "metadata": {},
   "outputs": [],
   "source": []
  }
 ],
 "metadata": {
  "kernelspec": {
   "display_name": "IComp2",
   "language": "python",
   "name": "python3"
  },
  "language_info": {
   "codemirror_mode": {
    "name": "ipython",
    "version": 3
   },
   "file_extension": ".py",
   "mimetype": "text/x-python",
   "name": "python",
   "nbconvert_exporter": "python",
   "pygments_lexer": "ipython3",
   "version": "3.8.17"
  },
  "orig_nbformat": 4
 },
 "nbformat": 4,
 "nbformat_minor": 2
}
